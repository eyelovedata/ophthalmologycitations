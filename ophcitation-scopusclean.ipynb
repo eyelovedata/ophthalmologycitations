{
 "cells": [
  {
   "cell_type": "code",
   "execution_count": 1,
   "metadata": {},
   "outputs": [],
   "source": [
    "import pandas as pd \n",
    "import glob \n",
    "\n",
    "from IPython.core.interactiveshell import InteractiveShell\n",
    "InteractiveShell.ast_node_interactivity = \"all\""
   ]
  },
  {
   "cell_type": "code",
   "execution_count": 2,
   "metadata": {},
   "outputs": [
    {
     "data": {
      "text/plain": [
       "Index(['authors', 'author(s) id', 'title', 'year', 'source title', 'volume',\n",
       "       'issue', 'art. no.', 'page start', 'page end', 'page count', 'cited by',\n",
       "       'doi', 'link', 'affiliations', 'authors with affiliations', 'abstract',\n",
       "       'author keywords', 'index keywords', 'funding details',\n",
       "       'correspondence address', 'publisher', 'pubmed id', 'document type',\n",
       "       'publication stage', 'access type', 'source', 'eid'],\n",
       "      dtype='object')"
      ]
     },
     "execution_count": 2,
     "metadata": {},
     "output_type": "execute_result"
    },
    {
     "data": {
      "text/plain": [
       "authors                       object\n",
       "author(s) id                  object\n",
       "title                         object\n",
       "year                           int64\n",
       "source title                  object\n",
       "volume                        object\n",
       "issue                         object\n",
       "art. no.                      object\n",
       "page start                    object\n",
       "page end                      object\n",
       "page count                   float64\n",
       "cited by                     float64\n",
       "doi                           object\n",
       "link                          object\n",
       "affiliations                  object\n",
       "authors with affiliations     object\n",
       "abstract                      object\n",
       "author keywords               object\n",
       "index keywords                object\n",
       "funding details               object\n",
       "correspondence address        object\n",
       "publisher                     object\n",
       "pubmed id                    float64\n",
       "document type                 object\n",
       "publication stage             object\n",
       "access type                   object\n",
       "source                        object\n",
       "eid                           object\n",
       "dtype: object"
      ]
     },
     "execution_count": 2,
     "metadata": {},
     "output_type": "execute_result"
    },
    {
     "data": {
      "text/plain": [
       "9392"
      ]
     },
     "execution_count": 2,
     "metadata": {},
     "output_type": "execute_result"
    },
    {
     "data": {
      "text/html": [
       "<div>\n",
       "<style scoped>\n",
       "    .dataframe tbody tr th:only-of-type {\n",
       "        vertical-align: middle;\n",
       "    }\n",
       "\n",
       "    .dataframe tbody tr th {\n",
       "        vertical-align: top;\n",
       "    }\n",
       "\n",
       "    .dataframe thead th {\n",
       "        text-align: right;\n",
       "    }\n",
       "</style>\n",
       "<table border=\"1\" class=\"dataframe\">\n",
       "  <thead>\n",
       "    <tr style=\"text-align: right;\">\n",
       "      <th></th>\n",
       "      <th>authors</th>\n",
       "      <th>author(s) id</th>\n",
       "      <th>title</th>\n",
       "      <th>year</th>\n",
       "      <th>source title</th>\n",
       "      <th>volume</th>\n",
       "      <th>issue</th>\n",
       "      <th>art. no.</th>\n",
       "      <th>page start</th>\n",
       "      <th>page end</th>\n",
       "      <th>...</th>\n",
       "      <th>index keywords</th>\n",
       "      <th>funding details</th>\n",
       "      <th>correspondence address</th>\n",
       "      <th>publisher</th>\n",
       "      <th>pubmed id</th>\n",
       "      <th>document type</th>\n",
       "      <th>publication stage</th>\n",
       "      <th>access type</th>\n",
       "      <th>source</th>\n",
       "      <th>eid</th>\n",
       "    </tr>\n",
       "  </thead>\n",
       "  <tbody>\n",
       "    <tr>\n",
       "      <th>0</th>\n",
       "      <td>Bonomi L., Marchini G., Marraffa M., Bernardi ...</td>\n",
       "      <td>16438564300;7005720033;6701396773;57192481974;...</td>\n",
       "      <td>Vascular risk factors for primary open angle g...</td>\n",
       "      <td>2000</td>\n",
       "      <td>Ophthalmology</td>\n",
       "      <td>107</td>\n",
       "      <td>7</td>\n",
       "      <td>NaN</td>\n",
       "      <td>1287</td>\n",
       "      <td>1293</td>\n",
       "      <td>...</td>\n",
       "      <td>adult; age distribution; aged; article; correl...</td>\n",
       "      <td>NaN</td>\n",
       "      <td>Bonomi, L.; Clin. Oculistica dell'Univ. Verona...</td>\n",
       "      <td>NaN</td>\n",
       "      <td>10889099.0</td>\n",
       "      <td>Article</td>\n",
       "      <td>Final</td>\n",
       "      <td>NaN</td>\n",
       "      <td>Scopus</td>\n",
       "      <td>2-s2.0-0033761608</td>\n",
       "    </tr>\n",
       "    <tr>\n",
       "      <th>1</th>\n",
       "      <td>Tanure M.A.G., Cohen E.J., Sudesh S., Rapuano ...</td>\n",
       "      <td>6506659416;7403588976;6603349480;7005117622;24...</td>\n",
       "      <td>Spectrum of fungal keratitis at Wills Eye Hosp...</td>\n",
       "      <td>2000</td>\n",
       "      <td>Cornea</td>\n",
       "      <td>19</td>\n",
       "      <td>3</td>\n",
       "      <td>NaN</td>\n",
       "      <td>307</td>\n",
       "      <td>312</td>\n",
       "      <td>...</td>\n",
       "      <td>amphotericin B; fluconazole; itraconazole; ket...</td>\n",
       "      <td>NaN</td>\n",
       "      <td>Cohen, E.J.; Cornea Service, Wills Eye Hospita...</td>\n",
       "      <td>NaN</td>\n",
       "      <td>10832689.0</td>\n",
       "      <td>Article</td>\n",
       "      <td>Final</td>\n",
       "      <td>NaN</td>\n",
       "      <td>Scopus</td>\n",
       "      <td>2-s2.0-0034126818</td>\n",
       "    </tr>\n",
       "    <tr>\n",
       "      <th>2</th>\n",
       "      <td>Levy R.A., Vilela V.S., Cataldo M.J., Ramos R....</td>\n",
       "      <td>35398389300;6506151613;57196699440;55437940200...</td>\n",
       "      <td>Hydroxychloroquine (HCQ) in lupus pregnancy: D...</td>\n",
       "      <td>2001</td>\n",
       "      <td>Lupus</td>\n",
       "      <td>10</td>\n",
       "      <td>6</td>\n",
       "      <td>NaN</td>\n",
       "      <td>401</td>\n",
       "      <td>404</td>\n",
       "      <td>...</td>\n",
       "      <td>antimalarial agent; DNA antibody; double stran...</td>\n",
       "      <td>NaN</td>\n",
       "      <td>Levy, R.A.; Hospital Universitario Pedro Ernes...</td>\n",
       "      <td>NaN</td>\n",
       "      <td>11434574.0</td>\n",
       "      <td>Article</td>\n",
       "      <td>Final</td>\n",
       "      <td>NaN</td>\n",
       "      <td>Scopus</td>\n",
       "      <td>2-s2.0-0034990187</td>\n",
       "    </tr>\n",
       "    <tr>\n",
       "      <th>3</th>\n",
       "      <td>Bursell S.-E., Cavallerano J.D., Cavallerano A...</td>\n",
       "      <td>26326720800;6701580100;8906005300;7004750042;6...</td>\n",
       "      <td>Stereo nonmydriatic digital-video color retina...</td>\n",
       "      <td>2001</td>\n",
       "      <td>Ophthalmology</td>\n",
       "      <td>108</td>\n",
       "      <td>3</td>\n",
       "      <td>NaN</td>\n",
       "      <td>572</td>\n",
       "      <td>585</td>\n",
       "      <td>...</td>\n",
       "      <td>adult; aged; article; diabetic retinopathy; di...</td>\n",
       "      <td>NaN</td>\n",
       "      <td>Aiello, L.M.; Beetham Eye Institute, Joslin Di...</td>\n",
       "      <td>NaN</td>\n",
       "      <td>11237913.0</td>\n",
       "      <td>Article</td>\n",
       "      <td>Final</td>\n",
       "      <td>NaN</td>\n",
       "      <td>Scopus</td>\n",
       "      <td>2-s2.0-0035119376</td>\n",
       "    </tr>\n",
       "    <tr>\n",
       "      <th>4</th>\n",
       "      <td>Nichols J.J., Marsich M.M., Nguyen M., Barr J....</td>\n",
       "      <td>56704320200;6506548363;57212857874;7202043696;...</td>\n",
       "      <td>Overnight orthokeratology</td>\n",
       "      <td>2000</td>\n",
       "      <td>Optometry and Vision Science</td>\n",
       "      <td>77</td>\n",
       "      <td>5</td>\n",
       "      <td>NaN</td>\n",
       "      <td>252</td>\n",
       "      <td>259</td>\n",
       "      <td>...</td>\n",
       "      <td>Contact lenses; Diseases; Error correction; Li...</td>\n",
       "      <td>NaN</td>\n",
       "      <td>Nichols, J.J.; College of Optometry, Ohio Stat...</td>\n",
       "      <td>Williams &amp; Wilkins Co, Baltimore</td>\n",
       "      <td>10831215.0</td>\n",
       "      <td>Article</td>\n",
       "      <td>Final</td>\n",
       "      <td>NaN</td>\n",
       "      <td>Scopus</td>\n",
       "      <td>2-s2.0-0034035002</td>\n",
       "    </tr>\n",
       "  </tbody>\n",
       "</table>\n",
       "<p>5 rows × 28 columns</p>\n",
       "</div>"
      ],
      "text/plain": [
       "                                             authors  \\\n",
       "0  Bonomi L., Marchini G., Marraffa M., Bernardi ...   \n",
       "1  Tanure M.A.G., Cohen E.J., Sudesh S., Rapuano ...   \n",
       "2  Levy R.A., Vilela V.S., Cataldo M.J., Ramos R....   \n",
       "3  Bursell S.-E., Cavallerano J.D., Cavallerano A...   \n",
       "4  Nichols J.J., Marsich M.M., Nguyen M., Barr J....   \n",
       "\n",
       "                                        author(s) id  \\\n",
       "0  16438564300;7005720033;6701396773;57192481974;...   \n",
       "1  6506659416;7403588976;6603349480;7005117622;24...   \n",
       "2  35398389300;6506151613;57196699440;55437940200...   \n",
       "3  26326720800;6701580100;8906005300;7004750042;6...   \n",
       "4  56704320200;6506548363;57212857874;7202043696;...   \n",
       "\n",
       "                                               title  year  \\\n",
       "0  Vascular risk factors for primary open angle g...  2000   \n",
       "1  Spectrum of fungal keratitis at Wills Eye Hosp...  2000   \n",
       "2  Hydroxychloroquine (HCQ) in lupus pregnancy: D...  2001   \n",
       "3  Stereo nonmydriatic digital-video color retina...  2001   \n",
       "4                          Overnight orthokeratology  2000   \n",
       "\n",
       "                   source title volume issue art. no. page start page end  \\\n",
       "0                 Ophthalmology    107     7      NaN       1287     1293   \n",
       "1                        Cornea     19     3      NaN        307      312   \n",
       "2                         Lupus     10     6      NaN        401      404   \n",
       "3                 Ophthalmology    108     3      NaN        572      585   \n",
       "4  Optometry and Vision Science     77     5      NaN        252      259   \n",
       "\n",
       "   ...                                     index keywords  funding details  \\\n",
       "0  ...  adult; age distribution; aged; article; correl...              NaN   \n",
       "1  ...  amphotericin B; fluconazole; itraconazole; ket...              NaN   \n",
       "2  ...  antimalarial agent; DNA antibody; double stran...              NaN   \n",
       "3  ...  adult; aged; article; diabetic retinopathy; di...              NaN   \n",
       "4  ...  Contact lenses; Diseases; Error correction; Li...              NaN   \n",
       "\n",
       "                              correspondence address  \\\n",
       "0  Bonomi, L.; Clin. Oculistica dell'Univ. Verona...   \n",
       "1  Cohen, E.J.; Cornea Service, Wills Eye Hospita...   \n",
       "2  Levy, R.A.; Hospital Universitario Pedro Ernes...   \n",
       "3  Aiello, L.M.; Beetham Eye Institute, Joslin Di...   \n",
       "4  Nichols, J.J.; College of Optometry, Ohio Stat...   \n",
       "\n",
       "                          publisher   pubmed id document type  \\\n",
       "0                               NaN  10889099.0       Article   \n",
       "1                               NaN  10832689.0       Article   \n",
       "2                               NaN  11434574.0       Article   \n",
       "3                               NaN  11237913.0       Article   \n",
       "4  Williams & Wilkins Co, Baltimore  10831215.0       Article   \n",
       "\n",
       "  publication stage access type  source                eid  \n",
       "0             Final         NaN  Scopus  2-s2.0-0033761608  \n",
       "1             Final         NaN  Scopus  2-s2.0-0034126818  \n",
       "2             Final         NaN  Scopus  2-s2.0-0034990187  \n",
       "3             Final         NaN  Scopus  2-s2.0-0035119376  \n",
       "4             Final         NaN  Scopus  2-s2.0-0034035002  \n",
       "\n",
       "[5 rows x 28 columns]"
      ]
     },
     "execution_count": 2,
     "metadata": {},
     "output_type": "execute_result"
    }
   ],
   "source": [
    "path = r'scopusdata' \n",
    "all_files = glob.glob(path + \"/*.csv\")\n",
    "\n",
    "df=pd.concat((pd.read_csv(f) for f in all_files))\n",
    "#a bit of minor cleanup. I prefer all my columns to be lowercase \n",
    "df.columns = map(str.lower, df.columns)\n",
    "df.columns\n",
    "df.dtypes #note that many of these are of datatype 'object'\n",
    "len(df)\n",
    "df.head()"
   ]
  },
  {
   "cell_type": "code",
   "execution_count": 3,
   "metadata": {},
   "outputs": [],
   "source": [
    "#there are some random weird columns we don't really need \n",
    "del df[\"eid\"]\n",
    "del df[\"publication stage\"] #we know from the search that all these are \"Final\" \n",
    "del df[\"source\"] #probably all say \"scopus\"!\n",
    "del df[\"document type\"] #these are all \"Article\" due to search limitations"
   ]
  },
  {
   "cell_type": "code",
   "execution_count": 4,
   "metadata": {},
   "outputs": [
    {
     "data": {
      "text/plain": [
       "Optometry and Vision Science                            1083\n",
       "Ophthalmology                                            370\n",
       "American Journal of Ophthalmology                        244\n",
       "Journal of Cataract and Refractive Surgery               190\n",
       "British Journal of Ophthalmology                         175\n",
       "                                                        ... \n",
       "Journal of Emergency Medicine, Trauma and Acute Care       1\n",
       "Microvascular Research                                     1\n",
       "Disease Management and Health Outcomes                     1\n",
       "Journal of the American Board of Family Medicine           1\n",
       "Experimental and Clinical Transplantation                  1\n",
       "Name: source title, Length: 1526, dtype: int64"
      ]
     },
     "execution_count": 4,
     "metadata": {},
     "output_type": "execute_result"
    },
    {
     "data": {
      "text/plain": [
       "2019    716\n",
       "2018    696\n",
       "2015    624\n",
       "2016    612\n",
       "2017    601\n",
       "2014    590\n",
       "2013    579\n",
       "2000    499\n",
       "2012    471\n",
       "2005    386\n",
       "2011    379\n",
       "2008    364\n",
       "2003    361\n",
       "2006    357\n",
       "2007    345\n",
       "2009    341\n",
       "2010    332\n",
       "2004    328\n",
       "2002    295\n",
       "2001    260\n",
       "2020    256\n",
       "Name: year, dtype: int64"
      ]
     },
     "execution_count": 4,
     "metadata": {},
     "output_type": "execute_result"
    }
   ],
   "source": [
    "#check some variables \n",
    "df[\"source title\"].value_counts()\n",
    "df[\"year\"].value_counts()"
   ]
  },
  {
   "cell_type": "code",
   "execution_count": 5,
   "metadata": {},
   "outputs": [
    {
     "data": {
      "text/plain": [
       "<matplotlib.axes._subplots.AxesSubplot at 0x1de748a3cf8>"
      ]
     },
     "execution_count": 5,
     "metadata": {},
     "output_type": "execute_result"
    },
    {
     "data": {
      "image/png": "[encoded data removed]",
      "text/plain": [
       "<Figure size 432x288 with 1 Axes>"
      ]
     },
     "metadata": {
      "needs_background": "light"
     },
     "output_type": "display_data"
    }
   ],
   "source": [
    "df[\"cited by\"].hist()"
   ]
  },
  {
   "cell_type": "code",
   "execution_count": 6,
   "metadata": {},
   "outputs": [
    {
     "data": {
      "text/plain": [
       "18.283629794330185"
      ]
     },
     "execution_count": 6,
     "metadata": {},
     "output_type": "execute_result"
    },
    {
     "data": {
      "text/plain": [
       "0.25     3.0\n",
       "0.50     8.0\n",
       "0.75    20.0\n",
       "Name: cited by, dtype: float64"
      ]
     },
     "execution_count": 6,
     "metadata": {},
     "output_type": "execute_result"
    },
    {
     "data": {
      "text/plain": [
       "1.0"
      ]
     },
     "execution_count": 6,
     "metadata": {},
     "output_type": "execute_result"
    },
    {
     "data": {
      "text/plain": [
       "567.0"
      ]
     },
     "execution_count": 6,
     "metadata": {},
     "output_type": "execute_result"
    },
    {
     "data": {
      "text/plain": [
       "33.3453554887943"
      ]
     },
     "execution_count": 6,
     "metadata": {},
     "output_type": "execute_result"
    }
   ],
   "source": [
    "df[\"cited by\"].mean()\n",
    "df[\"cited by\"].quantile([0.25, 0.5, 0.75])\n",
    "df[\"cited by\"].min() #surprised this isn't zero \n",
    "df[\"cited by\"].max()\n",
    "df[\"cited by\"].std()"
   ]
  },
  {
   "cell_type": "code",
   "execution_count": 9,
   "metadata": {},
   "outputs": [],
   "source": [
    "df.to_csv(\"dfscopus-1.csv\", index=None)"
   ]
  },
  {
   "cell_type": "code",
   "execution_count": null,
   "metadata": {},
   "outputs": [],
   "source": []
  }
 ],
 "metadata": {
  "kernelspec": {
   "display_name": "Python 3",
   "language": "python",
   "name": "python3"
  },
  "language_info": {
   "codemirror_mode": {
    "name": "ipython",
    "version": 3
   },
   "file_extension": ".py",
   "mimetype": "text/x-python",
   "name": "python",
   "nbconvert_exporter": "python",
   "pygments_lexer": "ipython3",
   "version": "3.6.10"
  }
 },
 "nbformat": 4,
 "nbformat_minor": 4
}
